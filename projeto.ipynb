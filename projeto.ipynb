{
 "cells": [
  {
   "cell_type": "markdown",
   "metadata": {},
   "source": [
    "# **Projeto da Disciplina CAP394 - Introdução à Data Science**\n",
    "\n",
    "1. Professores:\n",
    "  * Rafael Santos\n",
    "  * Gilberto Ribeiro de Queiroz\n",
    "\n",
    "\n",
    "2. Aluno:\n",
    "  * Henrique Eduardo de Macedo\n",
    "  \n",
    "### Sobre o Conjunto de dados\n",
    "\n",
    "Os dados a serem analisados são o conjunto de registros obtidos a partir do movimento dos veículos da Uber em suas viagens pela cidade de São Paulo. O dados podem ser obtidos no site https://movement.uber.com/cities.\n",
    "\n",
    "O dataset possui 9 colunas contendo basicamente um inteiro como código da origem e do destino a hora os tempos médios do deslocamento.\n",
    "\n",
    "Como conjunto auxiliar de dados, será utilizado uma tabela json contendo as áreas da cidade e seus códigos correspondentes também disponível no site.\n",
    "\n",
    "\n",
    "### Perguntas básicas a serem respondidas:\n",
    "\n",
    "1. É possível estimar o tempo de delocamento entre dois bairros com algum modelo de apreendizagem de máquina ?\n",
    "2. Qual o melhor dia/horário para efetuar deslocamentos para os aeroportos ?\n",
    "3. É possível estimar o aumento no tempo de deslocamento devido a alguma interrupção no tráfego ?\n",
    "4. Nos horários de pico, qual o sentido de deslocamento do maior fluxo de tráfego ?\n",
    "<br>\n",
    "<br>\n",
    "\n",
    "\n",
    "\n",
    "\n"
   ]
  },
  {
   "cell_type": "code",
   "execution_count": 3,
   "metadata": {
    "ExecuteTime": {
     "end_time": "2019-07-01T02:27:52.645334Z",
     "start_time": "2019-07-01T02:27:52.540617Z"
    }
   },
   "outputs": [],
   "source": [
    "import pandas as pd"
   ]
  },
  {
   "cell_type": "code",
   "execution_count": 4,
   "metadata": {},
   "outputs": [],
   "source": [
    "df = pd.read_csv(r'C:\\Users\\hp\\Downloads\\uber\\sao_paulo-od_zones_2017-2018-4-All-HourlyAggregate.csv')"
   ]
  },
  {
   "cell_type": "code",
   "execution_count": 5,
   "metadata": {},
   "outputs": [
    {
     "data": {
      "text/plain": [
       "(2950937, 7)"
      ]
     },
     "execution_count": 5,
     "metadata": {},
     "output_type": "execute_result"
    }
   ],
   "source": [
    "df.shape"
   ]
  },
  {
   "cell_type": "markdown",
   "metadata": {},
   "source": [
    "### Sobre a lista de variáveis\n",
    "\n",
    "  * __sourceid:__ Código da região de partida da viagem\n",
    "  * __dstid:__ Código da região de destino da viagem\n",
    "  * __hod:__ Hora do dia\n",
    "  * __mean_travel_time:__ Tempo médio da viagem\n",
    "  * __standard_deviation_travel_time:__ Desvio padrão\n",
    "  * __geometric_mean_travel_time__: Média geométrica\n",
    "  * __geometric_standard_deviation_travel_time__: Desvio padrão da média geométrica"
   ]
  },
  {
   "cell_type": "code",
   "execution_count": 6,
   "metadata": {},
   "outputs": [
    {
     "data": {
      "text/plain": [
       "Index(['sourceid', 'dstid', 'hod', 'mean_travel_time',\n",
       "       'standard_deviation_travel_time', 'geometric_mean_travel_time',\n",
       "       'geometric_standard_deviation_travel_time'],\n",
       "      dtype='object')"
      ]
     },
     "execution_count": 6,
     "metadata": {},
     "output_type": "execute_result"
    }
   ],
   "source": [
    "df.columns"
   ]
  },
  {
   "cell_type": "code",
   "execution_count": 7,
   "metadata": {},
   "outputs": [
    {
     "data": {
      "text/html": [
       "<div>\n",
       "<style scoped>\n",
       "    .dataframe tbody tr th:only-of-type {\n",
       "        vertical-align: middle;\n",
       "    }\n",
       "\n",
       "    .dataframe tbody tr th {\n",
       "        vertical-align: top;\n",
       "    }\n",
       "\n",
       "    .dataframe thead th {\n",
       "        text-align: right;\n",
       "    }\n",
       "</style>\n",
       "<table border=\"1\" class=\"dataframe\">\n",
       "  <thead>\n",
       "    <tr style=\"text-align: right;\">\n",
       "      <th></th>\n",
       "      <th>sourceid</th>\n",
       "      <th>dstid</th>\n",
       "      <th>hod</th>\n",
       "      <th>mean_travel_time</th>\n",
       "      <th>standard_deviation_travel_time</th>\n",
       "      <th>geometric_mean_travel_time</th>\n",
       "      <th>geometric_standard_deviation_travel_time</th>\n",
       "    </tr>\n",
       "  </thead>\n",
       "  <tbody>\n",
       "    <tr>\n",
       "      <th>0</th>\n",
       "      <td>84</td>\n",
       "      <td>119</td>\n",
       "      <td>1</td>\n",
       "      <td>1700.07</td>\n",
       "      <td>556.19</td>\n",
       "      <td>1631.09</td>\n",
       "      <td>1.31</td>\n",
       "    </tr>\n",
       "    <tr>\n",
       "      <th>1</th>\n",
       "      <td>418</td>\n",
       "      <td>456</td>\n",
       "      <td>5</td>\n",
       "      <td>1405.84</td>\n",
       "      <td>445.70</td>\n",
       "      <td>1346.89</td>\n",
       "      <td>1.33</td>\n",
       "    </tr>\n",
       "    <tr>\n",
       "      <th>2</th>\n",
       "      <td>463</td>\n",
       "      <td>99</td>\n",
       "      <td>20</td>\n",
       "      <td>2481.23</td>\n",
       "      <td>288.07</td>\n",
       "      <td>2464.21</td>\n",
       "      <td>1.13</td>\n",
       "    </tr>\n",
       "    <tr>\n",
       "      <th>3</th>\n",
       "      <td>72</td>\n",
       "      <td>239</td>\n",
       "      <td>1</td>\n",
       "      <td>1416.94</td>\n",
       "      <td>238.94</td>\n",
       "      <td>1398.21</td>\n",
       "      <td>1.17</td>\n",
       "    </tr>\n",
       "    <tr>\n",
       "      <th>4</th>\n",
       "      <td>37</td>\n",
       "      <td>70</td>\n",
       "      <td>1</td>\n",
       "      <td>1794.60</td>\n",
       "      <td>482.13</td>\n",
       "      <td>1736.27</td>\n",
       "      <td>1.29</td>\n",
       "    </tr>\n",
       "  </tbody>\n",
       "</table>\n",
       "</div>"
      ],
      "text/plain": [
       "   sourceid  dstid  hod  mean_travel_time  standard_deviation_travel_time  \\\n",
       "0        84    119    1           1700.07                          556.19   \n",
       "1       418    456    5           1405.84                          445.70   \n",
       "2       463     99   20           2481.23                          288.07   \n",
       "3        72    239    1           1416.94                          238.94   \n",
       "4        37     70    1           1794.60                          482.13   \n",
       "\n",
       "   geometric_mean_travel_time  geometric_standard_deviation_travel_time  \n",
       "0                     1631.09                                      1.31  \n",
       "1                     1346.89                                      1.33  \n",
       "2                     2464.21                                      1.13  \n",
       "3                     1398.21                                      1.17  \n",
       "4                     1736.27                                      1.29  "
      ]
     },
     "execution_count": 7,
     "metadata": {},
     "output_type": "execute_result"
    }
   ],
   "source": [
    "df.head()"
   ]
  },
  {
   "cell_type": "markdown",
   "metadata": {},
   "source": [
    "### Como traduzir o sourceid e dstid:\n",
    "\n",
    "A fonte dos dados também fornece um json com os atributos relativos a código.\n",
    "\n",
    "Como exemplo, para o código 0:\n",
    "\n",
    "\n",
    "\n"
   ]
  },
  {
   "cell_type": "code",
   "execution_count": null,
   "metadata": {},
   "outputs": [],
   "source": []
  }
 ],
 "metadata": {
  "kernelspec": {
   "display_name": "Python 3",
   "language": "python",
   "name": "python3"
  },
  "language_info": {
   "codemirror_mode": {
    "name": "ipython",
    "version": 3
   },
   "file_extension": ".py",
   "mimetype": "text/x-python",
   "name": "python",
   "nbconvert_exporter": "python",
   "pygments_lexer": "ipython3",
   "version": "3.7.3"
  }
 },
 "nbformat": 4,
 "nbformat_minor": 2
}
