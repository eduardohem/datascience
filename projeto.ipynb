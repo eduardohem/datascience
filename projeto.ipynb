{
 "cells": [
  {
   "cell_type": "markdown",
   "metadata": {},
   "source": [
    "# **Projeto da Disciplina CAP394 - Introdução à Data Science**\n",
    "\n",
    "1. Professores:\n",
    "  * Rafael Santos\n",
    "  * Gilberto Ribeiro de Queiroz\n",
    "\n",
    "\n",
    "2. Aluno:\n",
    "  * Henrique Eduardo de Macedo\n",
    "  \n",
    "### Sobre o Conjunto de dados\n",
    "\n",
    "Os dados a serem analisados são o conjunto de registros obtidos a partir do movimento dos veículos da Uber em suas viagens pela cidade de São Paulo. O dados podem ser obtidos no site https://movement.uber.com/cities.\n",
    "\n",
    "O dataset possui 9 colunas contendo basicamente um inteiro como código da origem e do destino a hora os tempos médios do deslocamento.\n",
    "\n",
    "Como conjunto auxiliar de dados, será utilizado uma tabela json contendo as áreas da cidade e seus códigos correspondentes também disponível no site.\n",
    "\n",
    "\n",
    "### Perguntas básicas a serem respondidas:\n",
    "\n",
    "1. Qual o melhor horário para efetuar deslocamentos para o aeroporto de Guarulhos ? <font color=\"red\"> __RESPONDIDA__ </font>\n",
    "2. No horário de pico, qual o sentido de deslocamento predominante do tráfego ?\n",
    "3. É possível estimar o tempo de delocamento entre dois bairros com algum modelo de apreendizagem de máquina ?\n",
    "4. É possível estimar o aumento no tempo de deslocamento devido a alguma interrupção no tráfego ?\n",
    "\n",
    "<br>\n",
    "<br>\n",
    "\n",
    "\n",
    "\n",
    "\n"
   ]
  },
  {
   "cell_type": "code",
   "execution_count": 1,
   "metadata": {
    "ExecuteTime": {
     "end_time": "2019-07-01T02:27:52.645334Z",
     "start_time": "2019-07-01T02:27:52.540617Z"
    }
   },
   "outputs": [],
   "source": [
    "import pandas as pd"
   ]
  },
  {
   "cell_type": "code",
   "execution_count": 2,
   "metadata": {},
   "outputs": [],
   "source": [
    "df = pd.read_csv(r'C:\\Users\\hp\\Downloads\\uber\\sao_paulo-od_zones_2017-2018-4-All-HourlyAggregate.csv')"
   ]
  },
  {
   "cell_type": "code",
   "execution_count": 3,
   "metadata": {},
   "outputs": [
    {
     "data": {
      "text/plain": [
       "(2950937, 7)"
      ]
     },
     "execution_count": 3,
     "metadata": {},
     "output_type": "execute_result"
    }
   ],
   "source": [
    "df.shape"
   ]
  },
  {
   "cell_type": "markdown",
   "metadata": {},
   "source": [
    "### Sobre a lista de variáveis\n",
    "\n",
    "  * __sourceid:__ Código da região de partida da viagem\n",
    "  * __dstid:__ Código da região de destino da viagem\n",
    "  * __hod:__ Hora do dia\n",
    "  * __mean_travel_time:__ Tempo médio da viagem\n",
    "  * __standard_deviation_travel_time:__ Desvio padrão\n",
    "  * __geometric_mean_travel_time__: Média geométrica\n",
    "  * __geometric_standard_deviation_travel_time__: Desvio padrão da média geométrica"
   ]
  },
  {
   "cell_type": "code",
   "execution_count": 4,
   "metadata": {},
   "outputs": [
    {
     "data": {
      "text/plain": [
       "Index(['sourceid', 'dstid', 'hod', 'mean_travel_time',\n",
       "       'standard_deviation_travel_time', 'geometric_mean_travel_time',\n",
       "       'geometric_standard_deviation_travel_time'],\n",
       "      dtype='object')"
      ]
     },
     "execution_count": 4,
     "metadata": {},
     "output_type": "execute_result"
    }
   ],
   "source": [
    "df.columns"
   ]
  },
  {
   "cell_type": "code",
   "execution_count": 5,
   "metadata": {},
   "outputs": [
    {
     "data": {
      "text/html": [
       "<div>\n",
       "<style scoped>\n",
       "    .dataframe tbody tr th:only-of-type {\n",
       "        vertical-align: middle;\n",
       "    }\n",
       "\n",
       "    .dataframe tbody tr th {\n",
       "        vertical-align: top;\n",
       "    }\n",
       "\n",
       "    .dataframe thead th {\n",
       "        text-align: right;\n",
       "    }\n",
       "</style>\n",
       "<table border=\"1\" class=\"dataframe\">\n",
       "  <thead>\n",
       "    <tr style=\"text-align: right;\">\n",
       "      <th></th>\n",
       "      <th>sourceid</th>\n",
       "      <th>dstid</th>\n",
       "      <th>hod</th>\n",
       "      <th>mean_travel_time</th>\n",
       "      <th>standard_deviation_travel_time</th>\n",
       "      <th>geometric_mean_travel_time</th>\n",
       "      <th>geometric_standard_deviation_travel_time</th>\n",
       "    </tr>\n",
       "  </thead>\n",
       "  <tbody>\n",
       "    <tr>\n",
       "      <th>0</th>\n",
       "      <td>84</td>\n",
       "      <td>119</td>\n",
       "      <td>1</td>\n",
       "      <td>1700.07</td>\n",
       "      <td>556.19</td>\n",
       "      <td>1631.09</td>\n",
       "      <td>1.31</td>\n",
       "    </tr>\n",
       "    <tr>\n",
       "      <th>1</th>\n",
       "      <td>418</td>\n",
       "      <td>456</td>\n",
       "      <td>5</td>\n",
       "      <td>1405.84</td>\n",
       "      <td>445.70</td>\n",
       "      <td>1346.89</td>\n",
       "      <td>1.33</td>\n",
       "    </tr>\n",
       "    <tr>\n",
       "      <th>2</th>\n",
       "      <td>463</td>\n",
       "      <td>99</td>\n",
       "      <td>20</td>\n",
       "      <td>2481.23</td>\n",
       "      <td>288.07</td>\n",
       "      <td>2464.21</td>\n",
       "      <td>1.13</td>\n",
       "    </tr>\n",
       "    <tr>\n",
       "      <th>3</th>\n",
       "      <td>72</td>\n",
       "      <td>239</td>\n",
       "      <td>1</td>\n",
       "      <td>1416.94</td>\n",
       "      <td>238.94</td>\n",
       "      <td>1398.21</td>\n",
       "      <td>1.17</td>\n",
       "    </tr>\n",
       "    <tr>\n",
       "      <th>4</th>\n",
       "      <td>37</td>\n",
       "      <td>70</td>\n",
       "      <td>1</td>\n",
       "      <td>1794.60</td>\n",
       "      <td>482.13</td>\n",
       "      <td>1736.27</td>\n",
       "      <td>1.29</td>\n",
       "    </tr>\n",
       "  </tbody>\n",
       "</table>\n",
       "</div>"
      ],
      "text/plain": [
       "   sourceid  dstid  hod  mean_travel_time  standard_deviation_travel_time  \\\n",
       "0        84    119    1           1700.07                          556.19   \n",
       "1       418    456    5           1405.84                          445.70   \n",
       "2       463     99   20           2481.23                          288.07   \n",
       "3        72    239    1           1416.94                          238.94   \n",
       "4        37     70    1           1794.60                          482.13   \n",
       "\n",
       "   geometric_mean_travel_time  geometric_standard_deviation_travel_time  \n",
       "0                     1631.09                                      1.31  \n",
       "1                     1346.89                                      1.33  \n",
       "2                     2464.21                                      1.13  \n",
       "3                     1398.21                                      1.17  \n",
       "4                     1736.27                                      1.29  "
      ]
     },
     "execution_count": 5,
     "metadata": {},
     "output_type": "execute_result"
    }
   ],
   "source": [
    "df.head()"
   ]
  },
  {
   "cell_type": "markdown",
   "metadata": {},
   "source": [
    "### Como traduzir o sourceid e dstid:\n",
    "\n",
    "A fonte dos dados também fornece um json com os atributos relativos a código.\n",
    "\n",
    "Como exemplo, para o código 0:\n",
    "\"NumeroZona\":1,\n",
    "\"NomeZona\":\"Sé\",\n",
    "\"NumDistrit\":80,\n",
    "\"NomeDistri\":\"Sé\",\n",
    "\"NumeroMuni\":36,\n",
    "\"NomeMunici\":\"São Paulo\",\n",
    "\"Paulo\",\"MOVEMENT_ID\":\"1\",\"DISPLAY_NAME\":\"Sé\"\n",
    "\"geometry\":{\"type\":\"Polygon\",\"coordinates\":[[[-46.6291313,-23.5503351],[-46.6276154,-23.5518791],[-46.6275214,-23.5522241],[-46.6285723,-23.5521811],[-46.6295655,-23.5524881],[-46.6331403,-23.5524752],[-46.6353474,-23.55149],[-46.6354194,-23.5511471],[-46.6380082,-23.5499721],[-46.6388124,-23.549088],[-46.6388743,-23.548648],[-46.6352436,-23.5429958],[-46.6343978,-23.5438421],[-46.6338618,-23.5440981],[-46.6341168,-23.5444601],[-46.6336778,-23.5451841],[-46.6332584,-23.5474111],[-46.6322882,-23.5463551],[-46.6310282,-23.5491991],[-46.6304198,-23.5487961],[-46.6300858,-23.5494561],[-46.6291313,-23.5503351]]]}}\n",
    "\n",
    "      \n",
    "\n"
   ]
  },
  {
   "cell_type": "markdown",
   "metadata": {},
   "source": [
    "#### Pergunta 01:\n",
    "Qual o melhor dia/horário para efetuar deslocamentos para os aeroportos ?\n",
    "\n",
    "Para responder essa pergunta vamos inicialmente retirar do dataframe as colunas com com dados que não iremos usar. O dataset resultante também irá servir para os questionamentos seguintes.\n",
    "\n",
    "após análise, excluímos as colunas abaixo com comando df.drop:\n",
    "1. 'standard_deviation_travel_time'\n",
    "2. 'geometric_mean_travel_time'\n",
    "3. 'geometric_standard_deviation_travel_time'"
   ]
  },
  {
   "cell_type": "code",
   "execution_count": 6,
   "metadata": {},
   "outputs": [],
   "source": [
    "df = df.drop(['standard_deviation_travel_time', 'geometric_mean_travel_time',\n",
    "       'geometric_standard_deviation_travel_time'],axis=1)"
   ]
  },
  {
   "cell_type": "markdown",
   "metadata": {},
   "source": [
    "A partir deste dataframe criamos outro, DF_GRU, com todas as viagens com dstid=374, Aeroporto Internacional de Guarulhos."
   ]
  },
  {
   "cell_type": "code",
   "execution_count": 7,
   "metadata": {},
   "outputs": [
    {
     "data": {
      "text/html": [
       "<div>\n",
       "<style scoped>\n",
       "    .dataframe tbody tr th:only-of-type {\n",
       "        vertical-align: middle;\n",
       "    }\n",
       "\n",
       "    .dataframe tbody tr th {\n",
       "        vertical-align: top;\n",
       "    }\n",
       "\n",
       "    .dataframe thead th {\n",
       "        text-align: right;\n",
       "    }\n",
       "</style>\n",
       "<table border=\"1\" class=\"dataframe\">\n",
       "  <thead>\n",
       "    <tr style=\"text-align: right;\">\n",
       "      <th></th>\n",
       "      <th>sourceid</th>\n",
       "      <th>dstid</th>\n",
       "      <th>hod</th>\n",
       "      <th>mean_travel_time</th>\n",
       "    </tr>\n",
       "  </thead>\n",
       "  <tbody>\n",
       "    <tr>\n",
       "      <th>104</th>\n",
       "      <td>162</td>\n",
       "      <td>374</td>\n",
       "      <td>22</td>\n",
       "      <td>1048.84</td>\n",
       "    </tr>\n",
       "    <tr>\n",
       "      <th>328</th>\n",
       "      <td>154</td>\n",
       "      <td>374</td>\n",
       "      <td>0</td>\n",
       "      <td>1590.82</td>\n",
       "    </tr>\n",
       "    <tr>\n",
       "      <th>402</th>\n",
       "      <td>422</td>\n",
       "      <td>374</td>\n",
       "      <td>23</td>\n",
       "      <td>2972.89</td>\n",
       "    </tr>\n",
       "    <tr>\n",
       "      <th>629</th>\n",
       "      <td>245</td>\n",
       "      <td>374</td>\n",
       "      <td>8</td>\n",
       "      <td>2893.96</td>\n",
       "    </tr>\n",
       "    <tr>\n",
       "      <th>701</th>\n",
       "      <td>383</td>\n",
       "      <td>374</td>\n",
       "      <td>14</td>\n",
       "      <td>728.90</td>\n",
       "    </tr>\n",
       "  </tbody>\n",
       "</table>\n",
       "</div>"
      ],
      "text/plain": [
       "     sourceid  dstid  hod  mean_travel_time\n",
       "104       162    374   22           1048.84\n",
       "328       154    374    0           1590.82\n",
       "402       422    374   23           2972.89\n",
       "629       245    374    8           2893.96\n",
       "701       383    374   14            728.90"
      ]
     },
     "execution_count": 7,
     "metadata": {},
     "output_type": "execute_result"
    }
   ],
   "source": [
    "df_gru = df.loc[(df['dstid'] == 374)] #374 é o código do aeroporto de guarulhos\n",
    "df_gru.head()"
   ]
  },
  {
   "cell_type": "markdown",
   "metadata": {},
   "source": [
    "Após agrupar as linhas conforme os seus respectivos horários e extraindo a média, temos o resultado abaixo:"
   ]
  },
  {
   "cell_type": "code",
   "execution_count": 10,
   "metadata": {},
   "outputs": [
    {
     "data": {
      "text/html": [
       "<div>\n",
       "<style scoped>\n",
       "    .dataframe tbody tr th:only-of-type {\n",
       "        vertical-align: middle;\n",
       "    }\n",
       "\n",
       "    .dataframe tbody tr th {\n",
       "        vertical-align: top;\n",
       "    }\n",
       "\n",
       "    .dataframe thead th {\n",
       "        text-align: right;\n",
       "    }\n",
       "</style>\n",
       "<table border=\"1\" class=\"dataframe\">\n",
       "  <thead>\n",
       "    <tr style=\"text-align: right;\">\n",
       "      <th></th>\n",
       "      <th>mean_travel_time</th>\n",
       "    </tr>\n",
       "    <tr>\n",
       "      <th>hod</th>\n",
       "      <th></th>\n",
       "    </tr>\n",
       "  </thead>\n",
       "  <tbody>\n",
       "    <tr>\n",
       "      <th>16</th>\n",
       "      <td>3724.025952</td>\n",
       "    </tr>\n",
       "    <tr>\n",
       "      <th>17</th>\n",
       "      <td>3573.893348</td>\n",
       "    </tr>\n",
       "    <tr>\n",
       "      <th>15</th>\n",
       "      <td>3500.565882</td>\n",
       "    </tr>\n",
       "    <tr>\n",
       "      <th>18</th>\n",
       "      <td>3280.338013</td>\n",
       "    </tr>\n",
       "    <tr>\n",
       "      <th>14</th>\n",
       "      <td>3204.440852</td>\n",
       "    </tr>\n",
       "    <tr>\n",
       "      <th>19</th>\n",
       "      <td>2947.892181</td>\n",
       "    </tr>\n",
       "    <tr>\n",
       "      <th>13</th>\n",
       "      <td>2937.003742</td>\n",
       "    </tr>\n",
       "    <tr>\n",
       "      <th>6</th>\n",
       "      <td>2895.338858</td>\n",
       "    </tr>\n",
       "    <tr>\n",
       "      <th>7</th>\n",
       "      <td>2816.832721</td>\n",
       "    </tr>\n",
       "    <tr>\n",
       "      <th>12</th>\n",
       "      <td>2779.574286</td>\n",
       "    </tr>\n",
       "    <tr>\n",
       "      <th>10</th>\n",
       "      <td>2766.095956</td>\n",
       "    </tr>\n",
       "    <tr>\n",
       "      <th>11</th>\n",
       "      <td>2763.788226</td>\n",
       "    </tr>\n",
       "    <tr>\n",
       "      <th>9</th>\n",
       "      <td>2751.188606</td>\n",
       "    </tr>\n",
       "    <tr>\n",
       "      <th>8</th>\n",
       "      <td>2699.930675</td>\n",
       "    </tr>\n",
       "    <tr>\n",
       "      <th>5</th>\n",
       "      <td>2695.899636</td>\n",
       "    </tr>\n",
       "    <tr>\n",
       "      <th>20</th>\n",
       "      <td>2592.876720</td>\n",
       "    </tr>\n",
       "    <tr>\n",
       "      <th>21</th>\n",
       "      <td>2406.226325</td>\n",
       "    </tr>\n",
       "    <tr>\n",
       "      <th>4</th>\n",
       "      <td>2347.029893</td>\n",
       "    </tr>\n",
       "    <tr>\n",
       "      <th>22</th>\n",
       "      <td>2307.366348</td>\n",
       "    </tr>\n",
       "    <tr>\n",
       "      <th>23</th>\n",
       "      <td>2187.713661</td>\n",
       "    </tr>\n",
       "    <tr>\n",
       "      <th>3</th>\n",
       "      <td>2138.696491</td>\n",
       "    </tr>\n",
       "    <tr>\n",
       "      <th>2</th>\n",
       "      <td>2123.264146</td>\n",
       "    </tr>\n",
       "    <tr>\n",
       "      <th>1</th>\n",
       "      <td>2077.011418</td>\n",
       "    </tr>\n",
       "    <tr>\n",
       "      <th>0</th>\n",
       "      <td>2044.779897</td>\n",
       "    </tr>\n",
       "  </tbody>\n",
       "</table>\n",
       "</div>"
      ],
      "text/plain": [
       "     mean_travel_time\n",
       "hod                  \n",
       "16        3724.025952\n",
       "17        3573.893348\n",
       "15        3500.565882\n",
       "18        3280.338013\n",
       "14        3204.440852\n",
       "19        2947.892181\n",
       "13        2937.003742\n",
       "6         2895.338858\n",
       "7         2816.832721\n",
       "12        2779.574286\n",
       "10        2766.095956\n",
       "11        2763.788226\n",
       "9         2751.188606\n",
       "8         2699.930675\n",
       "5         2695.899636\n",
       "20        2592.876720\n",
       "21        2406.226325\n",
       "4         2347.029893\n",
       "22        2307.366348\n",
       "23        2187.713661\n",
       "3         2138.696491\n",
       "2         2123.264146\n",
       "1         2077.011418\n",
       "0         2044.779897"
      ]
     },
     "execution_count": 10,
     "metadata": {},
     "output_type": "execute_result"
    }
   ],
   "source": [
    "grouped = df_gru[['mean_travel_time']].groupby(df_gru['hod'])\n",
    "grouped.mean().sort_values(by='mean_travel_time',ascending=False)"
   ]
  },
  {
   "cell_type": "markdown",
   "metadata": {},
   "source": [
    "#### Resultado\n",
    "\n",
    "Considerando todas as regiões da cidade, o horário com tempo de viagem mais lento é o das 16hs. O oposto é o horário da meia noite."
   ]
  },
  {
   "cell_type": "markdown",
   "metadata": {},
   "source": [
    "#### Pergunta 02:\n",
    "No horário de pico, qual o sentido de deslocamento predominante do tráfego ?\n",
    "\n",
    "Para resoler esse problema vamos descobrir quais horários específicos apresentam o maior volume de viagem (tráfego) para refinir qual será o nosso \"horário de pico\"."
   ]
  }
 ],
 "metadata": {
  "kernelspec": {
   "display_name": "Python 3",
   "language": "python",
   "name": "python3"
  },
  "language_info": {
   "codemirror_mode": {
    "name": "ipython",
    "version": 3
   },
   "file_extension": ".py",
   "mimetype": "text/x-python",
   "name": "python",
   "nbconvert_exporter": "python",
   "pygments_lexer": "ipython3",
   "version": "3.7.3"
  }
 },
 "nbformat": 4,
 "nbformat_minor": 2
}
